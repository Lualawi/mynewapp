{
 "cells": [
  {
   "cell_type": "code",
   "execution_count": 1,
   "metadata": {},
   "outputs": [],
   "source": [
    "import pandas as pd\n",
    "import numpy as np\n"
   ]
  },
  {
   "cell_type": "code",
   "execution_count": 2,
   "metadata": {},
   "outputs": [
    {
     "data": {
      "text/plain": [
       "a   -1.366413\n",
       "b   -2.195704\n",
       "c   -1.741806\n",
       "d   -0.720754\n",
       "e    1.345214\n",
       "dtype: float64"
      ]
     },
     "execution_count": 2,
     "metadata": {},
     "output_type": "execute_result"
    }
   ],
   "source": [
    "data = np.random.randn(5)\n",
    "s = pd.Series(data, index=['a', 'b', 'c', 'd', 'e'])\n",
    "s\n",
    "#data series is one dimensional but each row has labels"
   ]
  },
  {
   "cell_type": "code",
   "execution_count": 3,
   "metadata": {},
   "outputs": [
    {
     "data": {
      "text/html": [
       "<div>\n",
       "<style scoped>\n",
       "    .dataframe tbody tr th:only-of-type {\n",
       "        vertical-align: middle;\n",
       "    }\n",
       "\n",
       "    .dataframe tbody tr th {\n",
       "        vertical-align: top;\n",
       "    }\n",
       "\n",
       "    .dataframe thead th {\n",
       "        text-align: right;\n",
       "    }\n",
       "</style>\n",
       "<table border=\"1\" class=\"dataframe\">\n",
       "  <thead>\n",
       "    <tr style=\"text-align: right;\">\n",
       "      <th></th>\n",
       "      <th>A</th>\n",
       "      <th>B</th>\n",
       "      <th>C</th>\n",
       "      <th>D</th>\n",
       "    </tr>\n",
       "  </thead>\n",
       "  <tbody>\n",
       "    <tr>\n",
       "      <td>2013-01-28</td>\n",
       "      <td>-0.284826</td>\n",
       "      <td>0.035710</td>\n",
       "      <td>0.312110</td>\n",
       "      <td>0.972868</td>\n",
       "    </tr>\n",
       "    <tr>\n",
       "      <td>2013-01-29</td>\n",
       "      <td>0.166682</td>\n",
       "      <td>-0.142313</td>\n",
       "      <td>-0.315630</td>\n",
       "      <td>-0.776970</td>\n",
       "    </tr>\n",
       "    <tr>\n",
       "      <td>2013-01-30</td>\n",
       "      <td>-2.011938</td>\n",
       "      <td>0.313104</td>\n",
       "      <td>0.229569</td>\n",
       "      <td>1.458476</td>\n",
       "    </tr>\n",
       "    <tr>\n",
       "      <td>2013-01-31</td>\n",
       "      <td>-0.613562</td>\n",
       "      <td>1.414956</td>\n",
       "      <td>0.793555</td>\n",
       "      <td>0.358823</td>\n",
       "    </tr>\n",
       "    <tr>\n",
       "      <td>2013-02-01</td>\n",
       "      <td>0.331422</td>\n",
       "      <td>0.755886</td>\n",
       "      <td>-1.356311</td>\n",
       "      <td>1.364642</td>\n",
       "    </tr>\n",
       "    <tr>\n",
       "      <td>2013-02-02</td>\n",
       "      <td>-0.189642</td>\n",
       "      <td>-1.072263</td>\n",
       "      <td>0.328873</td>\n",
       "      <td>0.288739</td>\n",
       "    </tr>\n",
       "  </tbody>\n",
       "</table>\n",
       "</div>"
      ],
      "text/plain": [
       "                   A         B         C         D\n",
       "2013-01-28 -0.284826  0.035710  0.312110  0.972868\n",
       "2013-01-29  0.166682 -0.142313 -0.315630 -0.776970\n",
       "2013-01-30 -2.011938  0.313104  0.229569  1.458476\n",
       "2013-01-31 -0.613562  1.414956  0.793555  0.358823\n",
       "2013-02-01  0.331422  0.755886 -1.356311  1.364642\n",
       "2013-02-02 -0.189642 -1.072263  0.328873  0.288739"
      ]
     },
     "execution_count": 3,
     "metadata": {},
     "output_type": "execute_result"
    }
   ],
   "source": [
    "time = pd.date_range('2013-01-28', periods=6)\n",
    "\n",
    "data = np.random.randn(6, 4)\n",
    "\n",
    "df = pd.DataFrame(data, index=time, columns=list('ABCD'))\n",
    "\n",
    "df\n",
    "#data frames are 2d, therefore both the columns and the rows have indexes\n",
    "#let A,B... be places for example "
   ]
  },
  {
   "cell_type": "code",
   "execution_count": 6,
   "metadata": {},
   "outputs": [
    {
     "data": {
      "text/html": [
       "<div>\n",
       "<style scoped>\n",
       "    .dataframe tbody tr th:only-of-type {\n",
       "        vertical-align: middle;\n",
       "    }\n",
       "\n",
       "    .dataframe tbody tr th {\n",
       "        vertical-align: top;\n",
       "    }\n",
       "\n",
       "    .dataframe thead th {\n",
       "        text-align: right;\n",
       "    }\n",
       "</style>\n",
       "<table border=\"1\" class=\"dataframe\">\n",
       "  <thead>\n",
       "    <tr style=\"text-align: right;\">\n",
       "      <th></th>\n",
       "      <th>A</th>\n",
       "      <th>B</th>\n",
       "    </tr>\n",
       "  </thead>\n",
       "  <tbody>\n",
       "    <tr>\n",
       "      <td>2013-01-28</td>\n",
       "      <td>-0.284826</td>\n",
       "      <td>0.035710</td>\n",
       "    </tr>\n",
       "    <tr>\n",
       "      <td>2013-01-29</td>\n",
       "      <td>0.166682</td>\n",
       "      <td>-0.142313</td>\n",
       "    </tr>\n",
       "    <tr>\n",
       "      <td>2013-01-30</td>\n",
       "      <td>-2.011938</td>\n",
       "      <td>0.313104</td>\n",
       "    </tr>\n",
       "    <tr>\n",
       "      <td>2013-01-31</td>\n",
       "      <td>-0.613562</td>\n",
       "      <td>1.414956</td>\n",
       "    </tr>\n",
       "    <tr>\n",
       "      <td>2013-02-01</td>\n",
       "      <td>0.331422</td>\n",
       "      <td>0.755886</td>\n",
       "    </tr>\n",
       "    <tr>\n",
       "      <td>2013-02-02</td>\n",
       "      <td>-0.189642</td>\n",
       "      <td>-1.072263</td>\n",
       "    </tr>\n",
       "  </tbody>\n",
       "</table>\n",
       "</div>"
      ],
      "text/plain": [
       "                   A         B\n",
       "2013-01-28 -0.284826  0.035710\n",
       "2013-01-29  0.166682 -0.142313\n",
       "2013-01-30 -2.011938  0.313104\n",
       "2013-01-31 -0.613562  1.414956\n",
       "2013-02-01  0.331422  0.755886\n",
       "2013-02-02 -0.189642 -1.072263"
      ]
     },
     "execution_count": 6,
     "metadata": {},
     "output_type": "execute_result"
    }
   ],
   "source": [
    "df['A'] #selecting a column as a data series, output rows have index (time here)\n",
    "df[['A','B']] #selecting a column as a dataframe, output columns have index TOO"
   ]
  },
  {
   "cell_type": "code",
   "execution_count": 7,
   "metadata": {},
   "outputs": [
    {
     "data": {
      "text/plain": [
       "A   -2.011938\n",
       "B    0.313104\n",
       "C    0.229569\n",
       "D    1.458476\n",
       "Name: 2013-01-30 00:00:00, dtype: float64"
      ]
     },
     "execution_count": 7,
     "metadata": {},
     "output_type": "execute_result"
    }
   ],
   "source": [
    "#selecting split rows \n",
    "df.loc['2013-01-30']"
   ]
  },
  {
   "cell_type": "code",
   "execution_count": 8,
   "metadata": {},
   "outputs": [
    {
     "data": {
      "text/html": [
       "<div>\n",
       "<style scoped>\n",
       "    .dataframe tbody tr th:only-of-type {\n",
       "        vertical-align: middle;\n",
       "    }\n",
       "\n",
       "    .dataframe tbody tr th {\n",
       "        vertical-align: top;\n",
       "    }\n",
       "\n",
       "    .dataframe thead th {\n",
       "        text-align: right;\n",
       "    }\n",
       "</style>\n",
       "<table border=\"1\" class=\"dataframe\">\n",
       "  <thead>\n",
       "    <tr style=\"text-align: right;\">\n",
       "      <th></th>\n",
       "      <th>A</th>\n",
       "      <th>B</th>\n",
       "      <th>C</th>\n",
       "      <th>D</th>\n",
       "    </tr>\n",
       "  </thead>\n",
       "  <tbody>\n",
       "    <tr>\n",
       "      <td>2013-01-30</td>\n",
       "      <td>-2.011938</td>\n",
       "      <td>0.313104</td>\n",
       "      <td>0.229569</td>\n",
       "      <td>1.458476</td>\n",
       "    </tr>\n",
       "  </tbody>\n",
       "</table>\n",
       "</div>"
      ],
      "text/plain": [
       "                   A         B         C         D\n",
       "2013-01-30 -2.011938  0.313104  0.229569  1.458476"
      ]
     },
     "execution_count": 8,
     "metadata": {},
     "output_type": "execute_result"
    }
   ],
   "source": [
    "df.loc['2013-01-30':'2013-01-30'] #as a range"
   ]
  },
  {
   "cell_type": "code",
   "execution_count": 12,
   "metadata": {},
   "outputs": [
    {
     "data": {
      "text/html": [
       "<div>\n",
       "<style scoped>\n",
       "    .dataframe tbody tr th:only-of-type {\n",
       "        vertical-align: middle;\n",
       "    }\n",
       "\n",
       "    .dataframe tbody tr th {\n",
       "        vertical-align: top;\n",
       "    }\n",
       "\n",
       "    .dataframe thead th {\n",
       "        text-align: right;\n",
       "    }\n",
       "</style>\n",
       "<table border=\"1\" class=\"dataframe\">\n",
       "  <thead>\n",
       "    <tr style=\"text-align: right;\">\n",
       "      <th></th>\n",
       "      <th>A</th>\n",
       "      <th>B</th>\n",
       "      <th>C</th>\n",
       "      <th>D</th>\n",
       "    </tr>\n",
       "  </thead>\n",
       "  <tbody>\n",
       "    <tr>\n",
       "      <td>2013-01-28</td>\n",
       "      <td>-0.284826</td>\n",
       "      <td>0.035710</td>\n",
       "      <td>0.312110</td>\n",
       "      <td>0.972868</td>\n",
       "    </tr>\n",
       "    <tr>\n",
       "      <td>2013-01-29</td>\n",
       "      <td>0.166682</td>\n",
       "      <td>-0.142313</td>\n",
       "      <td>-0.315630</td>\n",
       "      <td>-0.776970</td>\n",
       "    </tr>\n",
       "    <tr>\n",
       "      <td>2013-01-30</td>\n",
       "      <td>-2.011938</td>\n",
       "      <td>0.313104</td>\n",
       "      <td>0.229569</td>\n",
       "      <td>1.458476</td>\n",
       "    </tr>\n",
       "    <tr>\n",
       "      <td>2013-01-31</td>\n",
       "      <td>-0.613562</td>\n",
       "      <td>1.414956</td>\n",
       "      <td>0.793555</td>\n",
       "      <td>0.358823</td>\n",
       "    </tr>\n",
       "  </tbody>\n",
       "</table>\n",
       "</div>"
      ],
      "text/plain": [
       "                   A         B         C         D\n",
       "2013-01-28 -0.284826  0.035710  0.312110  0.972868\n",
       "2013-01-29  0.166682 -0.142313 -0.315630 -0.776970\n",
       "2013-01-30 -2.011938  0.313104  0.229569  1.458476\n",
       "2013-01-31 -0.613562  1.414956  0.793555  0.358823"
      ]
     },
     "execution_count": 12,
     "metadata": {},
     "output_type": "execute_result"
    }
   ],
   "source": [
    "df.loc['2013-01'] #all days in a month"
   ]
  },
  {
   "cell_type": "code",
   "execution_count": 13,
   "metadata": {},
   "outputs": [
    {
     "data": {
      "text/html": [
       "<div>\n",
       "<style scoped>\n",
       "    .dataframe tbody tr th:only-of-type {\n",
       "        vertical-align: middle;\n",
       "    }\n",
       "\n",
       "    .dataframe tbody tr th {\n",
       "        vertical-align: top;\n",
       "    }\n",
       "\n",
       "    .dataframe thead th {\n",
       "        text-align: right;\n",
       "    }\n",
       "</style>\n",
       "<table border=\"1\" class=\"dataframe\">\n",
       "  <thead>\n",
       "    <tr style=\"text-align: right;\">\n",
       "      <th></th>\n",
       "      <th>A</th>\n",
       "      <th>B</th>\n",
       "      <th>C</th>\n",
       "      <th>D</th>\n",
       "    </tr>\n",
       "  </thead>\n",
       "  <tbody>\n",
       "    <tr>\n",
       "      <td>2013-01-28</td>\n",
       "      <td>-0.284826</td>\n",
       "      <td>0.035710</td>\n",
       "      <td>0.312110</td>\n",
       "      <td>0.972868</td>\n",
       "    </tr>\n",
       "    <tr>\n",
       "      <td>2013-01-29</td>\n",
       "      <td>0.166682</td>\n",
       "      <td>-0.142313</td>\n",
       "      <td>-0.315630</td>\n",
       "      <td>-0.776970</td>\n",
       "    </tr>\n",
       "    <tr>\n",
       "      <td>2013-01-30</td>\n",
       "      <td>-2.011938</td>\n",
       "      <td>0.313104</td>\n",
       "      <td>0.229569</td>\n",
       "      <td>1.458476</td>\n",
       "    </tr>\n",
       "  </tbody>\n",
       "</table>\n",
       "</div>"
      ],
      "text/plain": [
       "                   A         B         C         D\n",
       "2013-01-28 -0.284826  0.035710  0.312110  0.972868\n",
       "2013-01-29  0.166682 -0.142313 -0.315630 -0.776970\n",
       "2013-01-30 -2.011938  0.313104  0.229569  1.458476"
      ]
     },
     "execution_count": 13,
     "metadata": {},
     "output_type": "execute_result"
    }
   ],
   "source": [
    "#select by position \n",
    "df.iloc[:3] #first 3 element down"
   ]
  },
  {
   "cell_type": "code",
   "execution_count": 15,
   "metadata": {},
   "outputs": [
    {
     "data": {
      "text/html": [
       "<div>\n",
       "<style scoped>\n",
       "    .dataframe tbody tr th:only-of-type {\n",
       "        vertical-align: middle;\n",
       "    }\n",
       "\n",
       "    .dataframe tbody tr th {\n",
       "        vertical-align: top;\n",
       "    }\n",
       "\n",
       "    .dataframe thead th {\n",
       "        text-align: right;\n",
       "    }\n",
       "</style>\n",
       "<table border=\"1\" class=\"dataframe\">\n",
       "  <thead>\n",
       "    <tr style=\"text-align: right;\">\n",
       "      <th></th>\n",
       "      <th>A</th>\n",
       "      <th>B</th>\n",
       "      <th>C</th>\n",
       "      <th>D</th>\n",
       "    </tr>\n",
       "  </thead>\n",
       "  <tbody>\n",
       "    <tr>\n",
       "      <td>2013-01-28</td>\n",
       "      <td>-0.284826</td>\n",
       "      <td>0.035710</td>\n",
       "      <td>0.312110</td>\n",
       "      <td>0.972868</td>\n",
       "    </tr>\n",
       "    <tr>\n",
       "      <td>2013-01-29</td>\n",
       "      <td>0.166682</td>\n",
       "      <td>-0.142313</td>\n",
       "      <td>-0.315630</td>\n",
       "      <td>-0.776970</td>\n",
       "    </tr>\n",
       "    <tr>\n",
       "      <td>2013-01-30</td>\n",
       "      <td>-2.011938</td>\n",
       "      <td>0.313104</td>\n",
       "      <td>0.229569</td>\n",
       "      <td>1.458476</td>\n",
       "    </tr>\n",
       "    <tr>\n",
       "      <td>2013-01-31</td>\n",
       "      <td>-0.613562</td>\n",
       "      <td>NaN</td>\n",
       "      <td>0.793555</td>\n",
       "      <td>0.358823</td>\n",
       "    </tr>\n",
       "    <tr>\n",
       "      <td>2013-02-01</td>\n",
       "      <td>0.331422</td>\n",
       "      <td>0.755886</td>\n",
       "      <td>-1.356311</td>\n",
       "      <td>NaN</td>\n",
       "    </tr>\n",
       "    <tr>\n",
       "      <td>2013-02-02</td>\n",
       "      <td>-0.189642</td>\n",
       "      <td>-1.072263</td>\n",
       "      <td>0.328873</td>\n",
       "      <td>NaN</td>\n",
       "    </tr>\n",
       "  </tbody>\n",
       "</table>\n",
       "</div>"
      ],
      "text/plain": [
       "                   A         B         C         D\n",
       "2013-01-28 -0.284826  0.035710  0.312110  0.972868\n",
       "2013-01-29  0.166682 -0.142313 -0.315630 -0.776970\n",
       "2013-01-30 -2.011938  0.313104  0.229569  1.458476\n",
       "2013-01-31 -0.613562       NaN  0.793555  0.358823\n",
       "2013-02-01  0.331422  0.755886 -1.356311       NaN\n",
       "2013-02-02 -0.189642 -1.072263  0.328873       NaN"
      ]
     },
     "execution_count": 15,
     "metadata": {},
     "output_type": "execute_result"
    }
   ],
   "source": [
    "#item assignment possible\n",
    "df.iloc[3, 1] = np.NaN\n",
    "\n",
    "df.loc['2013-02', 'D'] = np.NaN\n",
    "df"
   ]
  },
  {
   "cell_type": "code",
   "execution_count": 22,
   "metadata": {},
   "outputs": [
    {
     "data": {
      "text/plain": [
       "2013-01-28    0.258965\n",
       "2013-01-29   -0.267058\n",
       "2013-01-30   -0.002697\n",
       "2013-01-31    0.179606\n",
       "2013-02-01   -0.089668\n",
       "2013-02-02   -0.311011\n",
       "Freq: D, dtype: float64"
      ]
     },
     "execution_count": 22,
     "metadata": {},
     "output_type": "execute_result"
    }
   ],
   "source": [
    "df.mean() #per row - on axis 0 (thru time)\n",
    "df.mean(axis=1)"
   ]
  },
  {
   "cell_type": "code",
   "execution_count": 17,
   "metadata": {},
   "outputs": [
    {
     "data": {
      "text/plain": [
       "A   -0.433644\n",
       "B         NaN\n",
       "C   -0.001306\n",
       "D         NaN\n",
       "dtype: float64"
      ]
     },
     "execution_count": 17,
     "metadata": {},
     "output_type": "execute_result"
    }
   ],
   "source": [
    "#nan values not included unless:\n",
    "df.mean(skipna=False)"
   ]
  },
  {
   "cell_type": "code",
   "execution_count": 23,
   "metadata": {},
   "outputs": [
    {
     "data": {
      "text/html": [
       "<div>\n",
       "<style scoped>\n",
       "    .dataframe tbody tr th:only-of-type {\n",
       "        vertical-align: middle;\n",
       "    }\n",
       "\n",
       "    .dataframe tbody tr th {\n",
       "        vertical-align: top;\n",
       "    }\n",
       "\n",
       "    .dataframe thead th {\n",
       "        text-align: right;\n",
       "    }\n",
       "</style>\n",
       "<table border=\"1\" class=\"dataframe\">\n",
       "  <thead>\n",
       "    <tr style=\"text-align: right;\">\n",
       "      <th></th>\n",
       "      <th>A</th>\n",
       "      <th>B</th>\n",
       "      <th>C</th>\n",
       "      <th>D</th>\n",
       "      <th>E</th>\n",
       "    </tr>\n",
       "  </thead>\n",
       "  <tbody>\n",
       "    <tr>\n",
       "      <td>2013-01-28</td>\n",
       "      <td>-0.284826</td>\n",
       "      <td>0.035710</td>\n",
       "      <td>0.312110</td>\n",
       "      <td>0.972868</td>\n",
       "      <td>5.0</td>\n",
       "    </tr>\n",
       "    <tr>\n",
       "      <td>2013-01-29</td>\n",
       "      <td>0.166682</td>\n",
       "      <td>-0.142313</td>\n",
       "      <td>-0.315630</td>\n",
       "      <td>-0.776970</td>\n",
       "      <td>NaN</td>\n",
       "    </tr>\n",
       "    <tr>\n",
       "      <td>2013-01-30</td>\n",
       "      <td>-2.011938</td>\n",
       "      <td>0.313104</td>\n",
       "      <td>0.229569</td>\n",
       "      <td>1.458476</td>\n",
       "      <td>NaN</td>\n",
       "    </tr>\n",
       "    <tr>\n",
       "      <td>2013-01-31</td>\n",
       "      <td>-0.613562</td>\n",
       "      <td>NaN</td>\n",
       "      <td>0.793555</td>\n",
       "      <td>0.358823</td>\n",
       "      <td>NaN</td>\n",
       "    </tr>\n",
       "    <tr>\n",
       "      <td>2013-02-01</td>\n",
       "      <td>0.331422</td>\n",
       "      <td>0.755886</td>\n",
       "      <td>-1.356311</td>\n",
       "      <td>NaN</td>\n",
       "      <td>NaN</td>\n",
       "    </tr>\n",
       "    <tr>\n",
       "      <td>2013-02-02</td>\n",
       "      <td>-0.189642</td>\n",
       "      <td>-1.072263</td>\n",
       "      <td>0.328873</td>\n",
       "      <td>NaN</td>\n",
       "      <td>NaN</td>\n",
       "    </tr>\n",
       "  </tbody>\n",
       "</table>\n",
       "</div>"
      ],
      "text/plain": [
       "                   A         B         C         D    E\n",
       "2013-01-28 -0.284826  0.035710  0.312110  0.972868  5.0\n",
       "2013-01-29  0.166682 -0.142313 -0.315630 -0.776970  NaN\n",
       "2013-01-30 -2.011938  0.313104  0.229569  1.458476  NaN\n",
       "2013-01-31 -0.613562       NaN  0.793555  0.358823  NaN\n",
       "2013-02-01  0.331422  0.755886 -1.356311       NaN  NaN\n",
       "2013-02-02 -0.189642 -1.072263  0.328873       NaN  NaN"
      ]
     },
     "execution_count": 23,
     "metadata": {},
     "output_type": "execute_result"
    }
   ],
   "source": [
    "df.loc['2013-01-28', 'E'] = 5\n",
    "df"
   ]
  },
  {
   "cell_type": "code",
   "execution_count": 24,
   "metadata": {},
   "outputs": [
    {
     "data": {
      "text/html": [
       "<div>\n",
       "<style scoped>\n",
       "    .dataframe tbody tr th:only-of-type {\n",
       "        vertical-align: middle;\n",
       "    }\n",
       "\n",
       "    .dataframe tbody tr th {\n",
       "        vertical-align: top;\n",
       "    }\n",
       "\n",
       "    .dataframe thead th {\n",
       "        text-align: right;\n",
       "    }\n",
       "</style>\n",
       "<table border=\"1\" class=\"dataframe\">\n",
       "  <thead>\n",
       "    <tr style=\"text-align: right;\">\n",
       "      <th></th>\n",
       "      <th>A</th>\n",
       "      <th>B</th>\n",
       "      <th>C</th>\n",
       "      <th>D</th>\n",
       "      <th>E</th>\n",
       "      <th>F</th>\n",
       "    </tr>\n",
       "  </thead>\n",
       "  <tbody>\n",
       "    <tr>\n",
       "      <td>2013-01-28</td>\n",
       "      <td>-0.284826</td>\n",
       "      <td>0.035710</td>\n",
       "      <td>0.312110</td>\n",
       "      <td>0.972868</td>\n",
       "      <td>5.0</td>\n",
       "      <td>2</td>\n",
       "    </tr>\n",
       "    <tr>\n",
       "      <td>2013-01-29</td>\n",
       "      <td>0.166682</td>\n",
       "      <td>-0.142313</td>\n",
       "      <td>-0.315630</td>\n",
       "      <td>-0.776970</td>\n",
       "      <td>NaN</td>\n",
       "      <td>2</td>\n",
       "    </tr>\n",
       "    <tr>\n",
       "      <td>2013-01-30</td>\n",
       "      <td>-2.011938</td>\n",
       "      <td>0.313104</td>\n",
       "      <td>0.229569</td>\n",
       "      <td>1.458476</td>\n",
       "      <td>NaN</td>\n",
       "      <td>2</td>\n",
       "    </tr>\n",
       "    <tr>\n",
       "      <td>2013-01-31</td>\n",
       "      <td>-0.613562</td>\n",
       "      <td>NaN</td>\n",
       "      <td>0.793555</td>\n",
       "      <td>0.358823</td>\n",
       "      <td>NaN</td>\n",
       "      <td>2</td>\n",
       "    </tr>\n",
       "    <tr>\n",
       "      <td>2013-02-01</td>\n",
       "      <td>0.331422</td>\n",
       "      <td>0.755886</td>\n",
       "      <td>-1.356311</td>\n",
       "      <td>NaN</td>\n",
       "      <td>NaN</td>\n",
       "      <td>2</td>\n",
       "    </tr>\n",
       "    <tr>\n",
       "      <td>2013-02-02</td>\n",
       "      <td>-0.189642</td>\n",
       "      <td>-1.072263</td>\n",
       "      <td>0.328873</td>\n",
       "      <td>NaN</td>\n",
       "      <td>NaN</td>\n",
       "      <td>2</td>\n",
       "    </tr>\n",
       "  </tbody>\n",
       "</table>\n",
       "</div>"
      ],
      "text/plain": [
       "                   A         B         C         D    E  F\n",
       "2013-01-28 -0.284826  0.035710  0.312110  0.972868  5.0  2\n",
       "2013-01-29  0.166682 -0.142313 -0.315630 -0.776970  NaN  2\n",
       "2013-01-30 -2.011938  0.313104  0.229569  1.458476  NaN  2\n",
       "2013-01-31 -0.613562       NaN  0.793555  0.358823  NaN  2\n",
       "2013-02-01  0.331422  0.755886 -1.356311       NaN  NaN  2\n",
       "2013-02-02 -0.189642 -1.072263  0.328873       NaN  NaN  2"
      ]
     },
     "execution_count": 24,
     "metadata": {},
     "output_type": "execute_result"
    }
   ],
   "source": [
    "df.loc[:,'F']=2\n",
    "df"
   ]
  },
  {
   "cell_type": "code",
   "execution_count": 25,
   "metadata": {},
   "outputs": [
    {
     "data": {
      "text/plain": [
       "A    0.368448\n",
       "B    1.292696\n",
       "C    1.191605\n",
       "D         NaN\n",
       "E         NaN\n",
       "F    0.000000\n",
       "dtype: float64"
      ]
     },
     "execution_count": 25,
     "metadata": {},
     "output_type": "execute_result"
    }
   ],
   "source": [
    "df.loc['2013-02' , :].std() #say yu want std of february in each location"
   ]
  },
  {
   "cell_type": "code",
   "execution_count": 26,
   "metadata": {},
   "outputs": [
    {
     "name": "stdout",
     "output_type": "stream",
     "text": [
      "Mauna Loa Weekly Atmospheric CO2 Data\n",
      " - units: ppm\n",
      " - Keeling & Whorf 2004\n",
      " - Obtained from statsmodels\n",
      " - http://www.statsmodels.org/devel/datasets/generated/co2.html\n",
      ",co2\n",
      "1958-03-29,316.1\n",
      "1958-04-05,317.3\n",
      "1958-04-12,317.6\n",
      "1958-04-19,317.5\n"
     ]
    }
   ],
   "source": [
    "fN = './../data/co2.csv'\n",
    "\n",
    "with open(fN) as fid:\n",
    "    for i in range(10):\n",
    "        print(fid.readline(), end='')"
   ]
  },
  {
   "cell_type": "code",
   "execution_count": 30,
   "metadata": {},
   "outputs": [
    {
     "data": {
      "text/html": [
       "<div>\n",
       "<style scoped>\n",
       "    .dataframe tbody tr th:only-of-type {\n",
       "        vertical-align: middle;\n",
       "    }\n",
       "\n",
       "    .dataframe tbody tr th {\n",
       "        vertical-align: top;\n",
       "    }\n",
       "\n",
       "    .dataframe thead th {\n",
       "        text-align: right;\n",
       "    }\n",
       "</style>\n",
       "<table border=\"1\" class=\"dataframe\">\n",
       "  <thead>\n",
       "    <tr style=\"text-align: right;\">\n",
       "      <th></th>\n",
       "      <th>Unnamed: 0</th>\n",
       "      <th>co2</th>\n",
       "    </tr>\n",
       "  </thead>\n",
       "  <tbody>\n",
       "    <tr>\n",
       "      <td>0</td>\n",
       "      <td>1958-03-29</td>\n",
       "      <td>316.1</td>\n",
       "    </tr>\n",
       "    <tr>\n",
       "      <td>1</td>\n",
       "      <td>1958-04-05</td>\n",
       "      <td>317.3</td>\n",
       "    </tr>\n",
       "    <tr>\n",
       "      <td>2</td>\n",
       "      <td>1958-04-12</td>\n",
       "      <td>317.6</td>\n",
       "    </tr>\n",
       "  </tbody>\n",
       "</table>\n",
       "</div>"
      ],
      "text/plain": [
       "   Unnamed: 0    co2\n",
       "0  1958-03-29  316.1\n",
       "1  1958-04-05  317.3\n",
       "2  1958-04-12  317.6"
      ]
     },
     "execution_count": 30,
     "metadata": {},
     "output_type": "execute_result"
    }
   ],
   "source": [
    "#as can be seen we have 6 head lines - thus for python skip 5 (count from 0)\n",
    "CO2_prelim=pd.read_csv(fN,header=5)\n",
    "CO2_prelim.head(3)"
   ]
  },
  {
   "cell_type": "code",
   "execution_count": 32,
   "metadata": {},
   "outputs": [
    {
     "name": "stdout",
     "output_type": "stream",
     "text": [
      "The first date \"1958-03-29\"\n",
      "The type of the date <class 'str'>\n"
     ]
    }
   ],
   "source": [
    "print('The first date \"{:s}\"'.format(CO2_prelim.iloc[0, 0]))\n",
    "print('The type of the date', type(CO2_prelim.iloc[0, 0]))\n",
    "#check how the date format and type is assembled - its a string "
   ]
  },
  {
   "cell_type": "code",
   "execution_count": 33,
   "metadata": {},
   "outputs": [],
   "source": [
    "# We want the labels to be the (time) axis, and not numbers. Therefore we have to choose index_col=0, which uses the first column as index.\n",
    "# We also want the time axis to be a pandas DateTimeIndex, and not a string. Thus, we use parse_dates=True."
   ]
  },
  {
   "cell_type": "code",
   "execution_count": 34,
   "metadata": {},
   "outputs": [],
   "source": [
    "co2=pd.read_csv(fN, header=5, index_col=0, parse_dates=True) \n",
    "#make dates as datetimeindex"
   ]
  },
  {
   "cell_type": "code",
   "execution_count": 35,
   "metadata": {},
   "outputs": [
    {
     "data": {
      "text/html": [
       "<div>\n",
       "<style scoped>\n",
       "    .dataframe tbody tr th:only-of-type {\n",
       "        vertical-align: middle;\n",
       "    }\n",
       "\n",
       "    .dataframe tbody tr th {\n",
       "        vertical-align: top;\n",
       "    }\n",
       "\n",
       "    .dataframe thead th {\n",
       "        text-align: right;\n",
       "    }\n",
       "</style>\n",
       "<table border=\"1\" class=\"dataframe\">\n",
       "  <thead>\n",
       "    <tr style=\"text-align: right;\">\n",
       "      <th></th>\n",
       "      <th>co2</th>\n",
       "    </tr>\n",
       "  </thead>\n",
       "  <tbody>\n",
       "    <tr>\n",
       "      <td>1958-03-29</td>\n",
       "      <td>316.1</td>\n",
       "    </tr>\n",
       "    <tr>\n",
       "      <td>1958-04-05</td>\n",
       "      <td>317.3</td>\n",
       "    </tr>\n",
       "    <tr>\n",
       "      <td>1958-04-12</td>\n",
       "      <td>317.6</td>\n",
       "    </tr>\n",
       "  </tbody>\n",
       "</table>\n",
       "</div>"
      ],
      "text/plain": [
       "              co2\n",
       "1958-03-29  316.1\n",
       "1958-04-05  317.3\n",
       "1958-04-12  317.6"
      ]
     },
     "execution_count": 35,
     "metadata": {},
     "output_type": "execute_result"
    }
   ],
   "source": [
    "co2.head(3)"
   ]
  },
  {
   "cell_type": "code",
   "execution_count": 36,
   "metadata": {},
   "outputs": [
    {
     "data": {
      "text/html": [
       "<div>\n",
       "<style scoped>\n",
       "    .dataframe tbody tr th:only-of-type {\n",
       "        vertical-align: middle;\n",
       "    }\n",
       "\n",
       "    .dataframe tbody tr th {\n",
       "        vertical-align: top;\n",
       "    }\n",
       "\n",
       "    .dataframe thead th {\n",
       "        text-align: right;\n",
       "    }\n",
       "</style>\n",
       "<table border=\"1\" class=\"dataframe\">\n",
       "  <thead>\n",
       "    <tr style=\"text-align: right;\">\n",
       "      <th></th>\n",
       "      <th>co2</th>\n",
       "    </tr>\n",
       "  </thead>\n",
       "  <tbody>\n",
       "    <tr>\n",
       "      <td>1958-03-31</td>\n",
       "      <td>316.100000</td>\n",
       "    </tr>\n",
       "    <tr>\n",
       "      <td>1958-04-30</td>\n",
       "      <td>317.200000</td>\n",
       "    </tr>\n",
       "    <tr>\n",
       "      <td>1958-05-31</td>\n",
       "      <td>317.433333</td>\n",
       "    </tr>\n",
       "    <tr>\n",
       "      <td>1958-06-30</td>\n",
       "      <td>NaN</td>\n",
       "    </tr>\n",
       "    <tr>\n",
       "      <td>1958-07-31</td>\n",
       "      <td>315.625000</td>\n",
       "    </tr>\n",
       "  </tbody>\n",
       "</table>\n",
       "</div>"
      ],
      "text/plain": [
       "                   co2\n",
       "1958-03-31  316.100000\n",
       "1958-04-30  317.200000\n",
       "1958-05-31  317.433333\n",
       "1958-06-30         NaN\n",
       "1958-07-31  315.625000"
      ]
     },
     "execution_count": 36,
     "metadata": {},
     "output_type": "execute_result"
    }
   ],
   "source": [
    "co2_monthly = co2.resample('M').mean()\n",
    "\n",
    "co2_monthly.head()\n",
    "#now that dates are recognized, you can resample data into monthly from daily"
   ]
  },
  {
   "cell_type": "code",
   "execution_count": 45,
   "metadata": {},
   "outputs": [
    {
     "data": {
      "text/plain": [
       "DatetimeIndex(['2000-01-01 00:00:00', '2000-01-01 00:30:00',\n",
       "               '2000-01-01 01:00:00', '2000-01-01 01:30:00',\n",
       "               '2000-01-01 02:00:00', '2000-01-01 02:30:00',\n",
       "               '2000-01-01 03:00:00', '2000-01-01 03:30:00',\n",
       "               '2000-01-01 04:00:00', '2000-01-01 04:30:00',\n",
       "               ...\n",
       "               '2000-05-30 19:30:00', '2000-05-30 20:00:00',\n",
       "               '2000-05-30 20:30:00', '2000-05-30 21:00:00',\n",
       "               '2000-05-30 21:30:00', '2000-05-30 22:00:00',\n",
       "               '2000-05-30 22:30:00', '2000-05-30 23:00:00',\n",
       "               '2000-05-30 23:30:00', '2000-05-31 00:00:00'],\n",
       "              dtype='datetime64[ns]', length=7249, freq='30T')"
      ]
     },
     "execution_count": 45,
     "metadata": {},
     "output_type": "execute_result"
    }
   ],
   "source": [
    "pd.date_range('2000-01-01', '2000-12-31')\n",
    "# every second month of the year 2000\n",
    "pd.date_range('2000-01-01', '2000-12-31', freq='2M')\n",
    "pd.date_range('2000-01-01','2000-05-31',freq='30min')"
   ]
  },
  {
   "cell_type": "code",
   "execution_count": 48,
   "metadata": {},
   "outputs": [
    {
     "data": {
      "text/html": [
       "<div>\n",
       "<style scoped>\n",
       "    .dataframe tbody tr th:only-of-type {\n",
       "        vertical-align: middle;\n",
       "    }\n",
       "\n",
       "    .dataframe tbody tr th {\n",
       "        vertical-align: top;\n",
       "    }\n",
       "\n",
       "    .dataframe thead th {\n",
       "        text-align: right;\n",
       "    }\n",
       "</style>\n",
       "<table border=\"1\" class=\"dataframe\">\n",
       "  <thead>\n",
       "    <tr style=\"text-align: right;\">\n",
       "      <th></th>\n",
       "      <th>co2</th>\n",
       "    </tr>\n",
       "  </thead>\n",
       "  <tbody>\n",
       "    <tr>\n",
       "      <td>1958-12-31</td>\n",
       "      <td>315.420000</td>\n",
       "    </tr>\n",
       "    <tr>\n",
       "      <td>1959-12-31</td>\n",
       "      <td>315.906250</td>\n",
       "    </tr>\n",
       "    <tr>\n",
       "      <td>1960-12-31</td>\n",
       "      <td>316.860377</td>\n",
       "    </tr>\n",
       "    <tr>\n",
       "      <td>1961-12-31</td>\n",
       "      <td>317.592308</td>\n",
       "    </tr>\n",
       "    <tr>\n",
       "      <td>1962-12-31</td>\n",
       "      <td>318.545833</td>\n",
       "    </tr>\n",
       "  </tbody>\n",
       "</table>\n",
       "</div>"
      ],
      "text/plain": [
       "                   co2\n",
       "1958-12-31  315.420000\n",
       "1959-12-31  315.906250\n",
       "1960-12-31  316.860377\n",
       "1961-12-31  317.592308\n",
       "1962-12-31  318.545833"
      ]
     },
     "execution_count": 48,
     "metadata": {},
     "output_type": "execute_result"
    }
   ],
   "source": [
    "co2_annual=co2.resample('a').mean()\n",
    "co2_annual.head()"
   ]
  },
  {
   "cell_type": "code",
   "execution_count": 49,
   "metadata": {},
   "outputs": [
    {
     "data": {
      "text/html": [
       "<div>\n",
       "<style scoped>\n",
       "    .dataframe tbody tr th:only-of-type {\n",
       "        vertical-align: middle;\n",
       "    }\n",
       "\n",
       "    .dataframe tbody tr th {\n",
       "        vertical-align: top;\n",
       "    }\n",
       "\n",
       "    .dataframe thead th {\n",
       "        text-align: right;\n",
       "    }\n",
       "</style>\n",
       "<table border=\"1\" class=\"dataframe\">\n",
       "  <thead>\n",
       "    <tr style=\"text-align: right;\">\n",
       "      <th></th>\n",
       "      <th>A</th>\n",
       "      <th>B</th>\n",
       "      <th>C</th>\n",
       "      <th>D</th>\n",
       "      <th>E</th>\n",
       "      <th>F</th>\n",
       "    </tr>\n",
       "  </thead>\n",
       "  <tbody>\n",
       "    <tr>\n",
       "      <td>2013-01-28</td>\n",
       "      <td>-0.284826</td>\n",
       "      <td>0.035710</td>\n",
       "      <td>0.312110</td>\n",
       "      <td>0.972868</td>\n",
       "      <td>5.0</td>\n",
       "      <td>2</td>\n",
       "    </tr>\n",
       "    <tr>\n",
       "      <td>2013-01-29</td>\n",
       "      <td>0.166682</td>\n",
       "      <td>-0.142313</td>\n",
       "      <td>-0.315630</td>\n",
       "      <td>-0.776970</td>\n",
       "      <td>NaN</td>\n",
       "      <td>2</td>\n",
       "    </tr>\n",
       "    <tr>\n",
       "      <td>2013-01-30</td>\n",
       "      <td>-2.011938</td>\n",
       "      <td>0.313104</td>\n",
       "      <td>0.229569</td>\n",
       "      <td>1.458476</td>\n",
       "      <td>NaN</td>\n",
       "      <td>2</td>\n",
       "    </tr>\n",
       "    <tr>\n",
       "      <td>2013-01-31</td>\n",
       "      <td>-0.613562</td>\n",
       "      <td>NaN</td>\n",
       "      <td>0.793555</td>\n",
       "      <td>0.358823</td>\n",
       "      <td>NaN</td>\n",
       "      <td>2</td>\n",
       "    </tr>\n",
       "    <tr>\n",
       "      <td>2013-02-01</td>\n",
       "      <td>0.331422</td>\n",
       "      <td>0.755886</td>\n",
       "      <td>-1.356311</td>\n",
       "      <td>NaN</td>\n",
       "      <td>NaN</td>\n",
       "      <td>2</td>\n",
       "    </tr>\n",
       "    <tr>\n",
       "      <td>2013-02-02</td>\n",
       "      <td>-0.189642</td>\n",
       "      <td>-1.072263</td>\n",
       "      <td>0.328873</td>\n",
       "      <td>NaN</td>\n",
       "      <td>NaN</td>\n",
       "      <td>2</td>\n",
       "    </tr>\n",
       "  </tbody>\n",
       "</table>\n",
       "</div>"
      ],
      "text/plain": [
       "                   A         B         C         D    E  F\n",
       "2013-01-28 -0.284826  0.035710  0.312110  0.972868  5.0  2\n",
       "2013-01-29  0.166682 -0.142313 -0.315630 -0.776970  NaN  2\n",
       "2013-01-30 -2.011938  0.313104  0.229569  1.458476  NaN  2\n",
       "2013-01-31 -0.613562       NaN  0.793555  0.358823  NaN  2\n",
       "2013-02-01  0.331422  0.755886 -1.356311       NaN  NaN  2\n",
       "2013-02-02 -0.189642 -1.072263  0.328873       NaN  NaN  2"
      ]
     },
     "execution_count": 49,
     "metadata": {},
     "output_type": "execute_result"
    }
   ],
   "source": [
    "df"
   ]
  },
  {
   "cell_type": "code",
   "execution_count": 50,
   "metadata": {},
   "outputs": [
    {
     "data": {
      "text/html": [
       "<div>\n",
       "<style scoped>\n",
       "    .dataframe tbody tr th:only-of-type {\n",
       "        vertical-align: middle;\n",
       "    }\n",
       "\n",
       "    .dataframe tbody tr th {\n",
       "        vertical-align: top;\n",
       "    }\n",
       "\n",
       "    .dataframe thead th {\n",
       "        text-align: right;\n",
       "    }\n",
       "</style>\n",
       "<table border=\"1\" class=\"dataframe\">\n",
       "  <thead>\n",
       "    <tr style=\"text-align: right;\">\n",
       "      <th></th>\n",
       "      <th>A</th>\n",
       "      <th>B</th>\n",
       "      <th>C</th>\n",
       "      <th>D</th>\n",
       "      <th>E</th>\n",
       "      <th>F</th>\n",
       "    </tr>\n",
       "  </thead>\n",
       "  <tbody>\n",
       "    <tr>\n",
       "      <td>2013-01-31</td>\n",
       "      <td>-0.685911</td>\n",
       "      <td>0.068833</td>\n",
       "      <td>0.254901</td>\n",
       "      <td>0.503299</td>\n",
       "      <td>5.0</td>\n",
       "      <td>2</td>\n",
       "    </tr>\n",
       "    <tr>\n",
       "      <td>2013-02-28</td>\n",
       "      <td>0.070890</td>\n",
       "      <td>-0.158189</td>\n",
       "      <td>-0.513719</td>\n",
       "      <td>NaN</td>\n",
       "      <td>NaN</td>\n",
       "      <td>2</td>\n",
       "    </tr>\n",
       "  </tbody>\n",
       "</table>\n",
       "</div>"
      ],
      "text/plain": [
       "                   A         B         C         D    E  F\n",
       "2013-01-31 -0.685911  0.068833  0.254901  0.503299  5.0  2\n",
       "2013-02-28  0.070890 -0.158189 -0.513719       NaN  NaN  2"
      ]
     },
     "execution_count": 50,
     "metadata": {},
     "output_type": "execute_result"
    }
   ],
   "source": [
    "df.resample('M').mean().head()"
   ]
  },
  {
   "cell_type": "code",
   "execution_count": null,
   "metadata": {},
   "outputs": [],
   "source": []
  }
 ],
 "metadata": {
  "kernelspec": {
   "display_name": "Python 3",
   "language": "python",
   "name": "python3"
  },
  "language_info": {
   "codemirror_mode": {
    "name": "ipython",
    "version": 3
   },
   "file_extension": ".py",
   "mimetype": "text/x-python",
   "name": "python",
   "nbconvert_exporter": "python",
   "pygments_lexer": "ipython3",
   "version": "3.7.4"
  }
 },
 "nbformat": 4,
 "nbformat_minor": 2
}
