{
 "cells": [
  {
   "cell_type": "code",
   "execution_count": 1,
   "metadata": {},
   "outputs": [],
   "source": [
    "import pandas as pd\n",
    "import numpy as np\n"
   ]
  },
  {
   "cell_type": "code",
   "execution_count": 2,
   "metadata": {},
   "outputs": [
    {
     "data": {
      "text/plain": [
       "a   -1.366413\n",
       "b   -2.195704\n",
       "c   -1.741806\n",
       "d   -0.720754\n",
       "e    1.345214\n",
       "dtype: float64"
      ]
     },
     "execution_count": 2,
     "metadata": {},
     "output_type": "execute_result"
    }
   ],
   "source": [
    "data = np.random.randn(5)\n",
    "s = pd.Series(data, index=['a', 'b', 'c', 'd', 'e'])\n",
    "s\n",
    "#data series is one dimensional but each row has labels"
   ]
  },
  {
   "cell_type": "code",
   "execution_count": 3,
   "metadata": {},
   "outputs": [
    {
     "data": {
      "text/html": [
       "<div>\n",
       "<style scoped>\n",
       "    .dataframe tbody tr th:only-of-type {\n",
       "        vertical-align: middle;\n",
       "    }\n",
       "\n",
       "    .dataframe tbody tr th {\n",
       "        vertical-align: top;\n",
       "    }\n",
       "\n",
       "    .dataframe thead th {\n",
       "        text-align: right;\n",
       "    }\n",
       "</style>\n",
       "<table border=\"1\" class=\"dataframe\">\n",
       "  <thead>\n",
       "    <tr style=\"text-align: right;\">\n",
       "      <th></th>\n",
       "      <th>A</th>\n",
       "      <th>B</th>\n",
       "      <th>C</th>\n",
       "      <th>D</th>\n",
       "    </tr>\n",
       "  </thead>\n",
       "  <tbody>\n",
       "    <tr>\n",
       "      <td>2013-01-28</td>\n",
       "      <td>-0.284826</td>\n",
       "      <td>0.035710</td>\n",
       "      <td>0.312110</td>\n",
       "      <td>0.972868</td>\n",
       "    </tr>\n",
       "    <tr>\n",
       "      <td>2013-01-29</td>\n",
       "      <td>0.166682</td>\n",
       "      <td>-0.142313</td>\n",
       "      <td>-0.315630</td>\n",
       "      <td>-0.776970</td>\n",
       "    </tr>\n",
       "    <tr>\n",
       "      <td>2013-01-30</td>\n",
       "      <td>-2.011938</td>\n",
       "      <td>0.313104</td>\n",
       "      <td>0.229569</td>\n",
       "      <td>1.458476</td>\n",
       "    </tr>\n",
       "    <tr>\n",
       "      <td>2013-01-31</td>\n",
       "      <td>-0.613562</td>\n",
       "      <td>1.414956</td>\n",
       "      <td>0.793555</td>\n",
       "      <td>0.358823</td>\n",
       "    </tr>\n",
       "    <tr>\n",
       "      <td>2013-02-01</td>\n",
       "      <td>0.331422</td>\n",
       "      <td>0.755886</td>\n",
       "      <td>-1.356311</td>\n",
       "      <td>1.364642</td>\n",
       "    </tr>\n",
       "    <tr>\n",
       "      <td>2013-02-02</td>\n",
       "      <td>-0.189642</td>\n",
       "      <td>-1.072263</td>\n",
       "      <td>0.328873</td>\n",
       "      <td>0.288739</td>\n",
       "    </tr>\n",
       "  </tbody>\n",
       "</table>\n",
       "</div>"
      ],
      "text/plain": [
       "                   A         B         C         D\n",
       "2013-01-28 -0.284826  0.035710  0.312110  0.972868\n",
       "2013-01-29  0.166682 -0.142313 -0.315630 -0.776970\n",
       "2013-01-30 -2.011938  0.313104  0.229569  1.458476\n",
       "2013-01-31 -0.613562  1.414956  0.793555  0.358823\n",
       "2013-02-01  0.331422  0.755886 -1.356311  1.364642\n",
       "2013-02-02 -0.189642 -1.072263  0.328873  0.288739"
      ]
     },
     "execution_count": 3,
     "metadata": {},
     "output_type": "execute_result"
    }
   ],
   "source": [
    "time = pd.date_range('2013-01-28', periods=6)\n",
    "\n",
    "data = np.random.randn(6, 4)\n",
    "\n",
    "df = pd.DataFrame(data, index=time, columns=list('ABCD'))\n",
    "\n",
    "df\n",
    "#data frames are 2d, therefore both the columns and the rows have indexes\n",
    "#let A,B... be places for example "
   ]
  },
  {
   "cell_type": "code",
   "execution_count": 5,
   "metadata": {},
   "outputs": [
    {
     "data": {
      "text/html": [
       "<div>\n",
       "<style scoped>\n",
       "    .dataframe tbody tr th:only-of-type {\n",
       "        vertical-align: middle;\n",
       "    }\n",
       "\n",
       "    .dataframe tbody tr th {\n",
       "        vertical-align: top;\n",
       "    }\n",
       "\n",
       "    .dataframe thead th {\n",
       "        text-align: right;\n",
       "    }\n",
       "</style>\n",
       "<table border=\"1\" class=\"dataframe\">\n",
       "  <thead>\n",
       "    <tr style=\"text-align: right;\">\n",
       "      <th></th>\n",
       "      <th>A</th>\n",
       "    </tr>\n",
       "  </thead>\n",
       "  <tbody>\n",
       "    <tr>\n",
       "      <td>2013-01-28</td>\n",
       "      <td>-0.284826</td>\n",
       "    </tr>\n",
       "    <tr>\n",
       "      <td>2013-01-29</td>\n",
       "      <td>0.166682</td>\n",
       "    </tr>\n",
       "    <tr>\n",
       "      <td>2013-01-30</td>\n",
       "      <td>-2.011938</td>\n",
       "    </tr>\n",
       "    <tr>\n",
       "      <td>2013-01-31</td>\n",
       "      <td>-0.613562</td>\n",
       "    </tr>\n",
       "    <tr>\n",
       "      <td>2013-02-01</td>\n",
       "      <td>0.331422</td>\n",
       "    </tr>\n",
       "    <tr>\n",
       "      <td>2013-02-02</td>\n",
       "      <td>-0.189642</td>\n",
       "    </tr>\n",
       "  </tbody>\n",
       "</table>\n",
       "</div>"
      ],
      "text/plain": [
       "                   A\n",
       "2013-01-28 -0.284826\n",
       "2013-01-29  0.166682\n",
       "2013-01-30 -2.011938\n",
       "2013-01-31 -0.613562\n",
       "2013-02-01  0.331422\n",
       "2013-02-02 -0.189642"
      ]
     },
     "execution_count": 5,
     "metadata": {},
     "output_type": "execute_result"
    }
   ],
   "source": [
    "df['A'] #selecting a column as a data series, output rows have index (time here)\n",
    "df[['A']] #selecting a column as a dataframe, output columns have index TOO"
   ]
  },
  {
   "cell_type": "code",
   "execution_count": null,
   "metadata": {},
   "outputs": [],
   "source": []
  }
 ],
 "metadata": {
  "kernelspec": {
   "display_name": "Python 3",
   "language": "python",
   "name": "python3"
  },
  "language_info": {
   "codemirror_mode": {
    "name": "ipython",
    "version": 3
   },
   "file_extension": ".py",
   "mimetype": "text/x-python",
   "name": "python",
   "nbconvert_exporter": "python",
   "pygments_lexer": "ipython3",
   "version": "3.7.4"
  }
 },
 "nbformat": 4,
 "nbformat_minor": 2
}
