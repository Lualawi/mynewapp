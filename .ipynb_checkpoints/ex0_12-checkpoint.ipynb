{
 "cells": [
  {
   "cell_type": "code",
   "execution_count": 6,
   "metadata": {},
   "outputs": [
    {
     "name": "stdout",
     "output_type": "stream",
     "text": [
      "index: 0 element: 1\n",
      "index: 1 element: 2\n",
      "index: 2 element: 3\n",
      "index: 3 element: 4\n"
     ]
    }
   ],
   "source": [
    "a=[1,2,3,4]\n",
    "for i,el in enumerate(a):\n",
    "    print('index:',i, 'element:',el)\n",
    "    "
   ]
  },
  {
   "cell_type": "code",
   "execution_count": 7,
   "metadata": {},
   "outputs": [
    {
     "ename": "KeyboardInterrupt",
     "evalue": "",
     "output_type": "error",
     "traceback": [
      "\u001b[1;31m---------------------------------------------------------------------------\u001b[0m",
      "\u001b[1;31mKeyboardInterrupt\u001b[0m                         Traceback (most recent call last)",
      "\u001b[1;32m<ipython-input-7-b7133701d76c>\u001b[0m in \u001b[0;36m<module>\u001b[1;34m\u001b[0m\n\u001b[0;32m      1\u001b[0m \u001b[1;32mwhile\u001b[0m \u001b[1;32mTrue\u001b[0m\u001b[1;33m:\u001b[0m\u001b[1;33m\u001b[0m\u001b[1;33m\u001b[0m\u001b[0m\n\u001b[1;32m----> 2\u001b[1;33m     \u001b[1;32mpass\u001b[0m\u001b[1;33m\u001b[0m\u001b[1;33m\u001b[0m\u001b[0m\n\u001b[0m",
      "\u001b[1;31mKeyboardInterrupt\u001b[0m: "
     ]
    }
   ],
   "source": [
    "while True:\n",
    "    pass"
   ]
  },
  {
   "cell_type": "code",
   "execution_count": 2,
   "metadata": {},
   "outputs": [
    {
     "name": "stdout",
     "output_type": "stream",
     "text": [
      "[[0.99996279 0.4596935  0.39452568 0.93727062 0.49972429]\n",
      " [0.1199926  0.25292037 0.13705436 0.46291263 0.28619324]\n",
      " [0.10957898 0.56516416 0.89865684 0.2528122  0.36210876]]\n",
      "[[0. 0. 0. 0. 0.]\n",
      " [0. 0. 0. 0. 0.]\n",
      " [0. 0. 0. 0. 0.]]\n",
      "[[3. 3. 3.]\n",
      " [3. 3. 3.]]\n",
      "[[1. 0. 0.]\n",
      " [0. 1. 0.]\n",
      " [0. 0. 1.]]\n",
      "[1 2 3]\n",
      "<class 'tuple'>\n"
     ]
    }
   ],
   "source": [
    "import numpy as np\n",
    "a=np.random.rand(3,5)\n",
    "print(a)\n",
    "a.dtype\n",
    "b=np.zeros((3,5))\n",
    "print(b)\n",
    "c=np.ones((2,3))*3\n",
    "print(c)\n",
    "#identity matrix\n",
    "d=np.eye(3)\n",
    "print(d)\n",
    "e=np.asarray([1,2,3])\n",
    "print(e)\n",
    "print(type(d[0].shape))"
   ]
  },
  {
   "cell_type": "code",
   "execution_count": 35,
   "metadata": {},
   "outputs": [
    {
     "name": "stdout",
     "output_type": "stream",
     "text": [
      "[40 41 42 43 44 45 46 47 48 49]\n",
      "[[ 0  1  2  3  4  5  6  7  8  9]\n",
      " [10 11 12 13 14 15 16 17 18 19]\n",
      " [20 21 22 23 24 25 26 27 28 29]\n",
      " [30 31 32 33 34 35 36 37 38 39]\n",
      " [40 41 42 43 44 45 46 47 48 49]]\n",
      "[ 1 11 21 31 41]\n",
      "0\n",
      "1\n",
      "2\n",
      "3\n",
      "4\n"
     ]
    }
   ],
   "source": [
    "x_1d=np.arange(50)\n",
    "print(x_1d[-10:])\n",
    "x_2d = np.arange(50).reshape(5, 10)\n",
    "print(x_2d)\n",
    "print(x_2d[:,1])\n",
    "for i in x_2d.flat[:5]:\n",
    "    print (i)"
   ]
  },
  {
   "cell_type": "code",
   "execution_count": 13,
   "metadata": {},
   "outputs": [
    {
     "name": "stdout",
     "output_type": "stream",
     "text": [
      "[20. 21. 22. 23. 24. 25. 26. 27. 28. 29.]\n",
      "14.430869689661812\n"
     ]
    }
   ],
   "source": [
    "x_2d = np.arange(50).reshape(5, 10)\n",
    "y=x_2d.mean(axis=0)\n",
    "z=x_2d.std()\n",
    "print(y)\n",
    "print(z)"
   ]
  },
  {
   "cell_type": "code",
   "execution_count": 17,
   "metadata": {},
   "outputs": [
    {
     "name": "stdout",
     "output_type": "stream",
     "text": [
      "x.shape: (3, 5)\n",
      "y.shape: (5,)\n",
      "z.shape (3, 5)\n",
      "x: [[ 0  1  2  3  4]\n",
      " [ 5  6  7  8  9]\n",
      " [10 11 12 13 14]]\n",
      "y: [0.1 0.2 0.3 0.4 0.5]\n",
      "z: [[ 0.1  1.2  2.3  3.4  4.5]\n",
      " [ 5.1  6.2  7.3  8.4  9.5]\n",
      " [10.1 11.2 12.3 13.4 14.5]]\n"
     ]
    }
   ],
   "source": [
    "# create 2 arrays\n",
    "x = np.arange(15).reshape(3, -1)\n",
    "y = np.asarray([0.1, 0.2, 0.3, 0.4,0.5])\n",
    "\n",
    "print('x.shape:', x.shape)\n",
    "print('y.shape:', y.shape)\n",
    "z=x+y\n",
    "print('z.shape',z.shape)\n",
    "print('x:',x)\n",
    "print('y:',y)\n",
    "print('z:',z)"
   ]
  },
  {
   "cell_type": "code",
   "execution_count": null,
   "metadata": {},
   "outputs": [],
   "source": []
  }
 ],
 "metadata": {
  "kernelspec": {
   "display_name": "Python 3",
   "language": "python",
   "name": "python3"
  },
  "language_info": {
   "codemirror_mode": {
    "name": "ipython",
    "version": 3
   },
   "file_extension": ".py",
   "mimetype": "text/x-python",
   "name": "python",
   "nbconvert_exporter": "python",
   "pygments_lexer": "ipython3",
   "version": "3.7.4"
  }
 },
 "nbformat": 4,
 "nbformat_minor": 2
}
