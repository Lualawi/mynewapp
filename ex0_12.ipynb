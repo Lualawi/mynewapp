{
 "cells": [
  {
   "cell_type": "code",
   "execution_count": 6,
   "metadata": {},
   "outputs": [
    {
     "name": "stdout",
     "output_type": "stream",
     "text": [
      "index: 0 element: 1\n",
      "index: 1 element: 2\n",
      "index: 2 element: 3\n",
      "index: 3 element: 4\n"
     ]
    }
   ],
   "source": [
    "a=[1,2,3,4]\n",
    "for i,el in enumerate(a):\n",
    "    print('index:',i, 'element:',el)\n",
    "    "
   ]
  },
  {
   "cell_type": "code",
   "execution_count": 7,
   "metadata": {},
   "outputs": [
    {
     "ename": "KeyboardInterrupt",
     "evalue": "",
     "output_type": "error",
     "traceback": [
      "\u001b[1;31m---------------------------------------------------------------------------\u001b[0m",
      "\u001b[1;31mKeyboardInterrupt\u001b[0m                         Traceback (most recent call last)",
      "\u001b[1;32m<ipython-input-7-b7133701d76c>\u001b[0m in \u001b[0;36m<module>\u001b[1;34m\u001b[0m\n\u001b[0;32m      1\u001b[0m \u001b[1;32mwhile\u001b[0m \u001b[1;32mTrue\u001b[0m\u001b[1;33m:\u001b[0m\u001b[1;33m\u001b[0m\u001b[1;33m\u001b[0m\u001b[0m\n\u001b[1;32m----> 2\u001b[1;33m     \u001b[1;32mpass\u001b[0m\u001b[1;33m\u001b[0m\u001b[1;33m\u001b[0m\u001b[0m\n\u001b[0m",
      "\u001b[1;31mKeyboardInterrupt\u001b[0m: "
     ]
    }
   ],
   "source": [
    "while True:\n",
    "    pass"
   ]
  },
  {
   "cell_type": "code",
   "execution_count": 24,
   "metadata": {},
   "outputs": [
    {
     "name": "stdout",
     "output_type": "stream",
     "text": [
      "[[0.18017863 0.19500287 0.04986107 0.00944437 0.82642631]\n",
      " [0.81609713 0.57892416 0.60985485 0.19084745 0.37612549]\n",
      " [0.88382081 0.27123052 0.49792683 0.12191459 0.30753981]]\n",
      "[[0. 0. 0. 0. 0.]\n",
      " [0. 0. 0. 0. 0.]\n",
      " [0. 0. 0. 0. 0.]]\n",
      "[[3. 3. 3.]\n",
      " [3. 3. 3.]]\n",
      "[[1. 0. 0.]\n",
      " [0. 1. 0.]\n",
      " [0. 0. 1.]]\n",
      "[1 2 3]\n",
      "<class 'tuple'>\n"
     ]
    }
   ],
   "source": [
    "import numpy as np\n",
    "a=np.random.rand(3,5)\n",
    "print(a)\n",
    "a.dtype\n",
    "b=np.zeros((3,5))\n",
    "print(b)\n",
    "c=np.ones((2,3))*3\n",
    "print(c)\n",
    "#identity matrix\n",
    "d=np.eye(3)\n",
    "print(d)\n",
    "e=np.asarray([1,2,3])\n",
    "print(e)\n",
    "print(type(d[0].shape))"
   ]
  },
  {
   "cell_type": "code",
   "execution_count": 35,
   "metadata": {},
   "outputs": [
    {
     "name": "stdout",
     "output_type": "stream",
     "text": [
      "[40 41 42 43 44 45 46 47 48 49]\n",
      "[[ 0  1  2  3  4  5  6  7  8  9]\n",
      " [10 11 12 13 14 15 16 17 18 19]\n",
      " [20 21 22 23 24 25 26 27 28 29]\n",
      " [30 31 32 33 34 35 36 37 38 39]\n",
      " [40 41 42 43 44 45 46 47 48 49]]\n",
      "[ 1 11 21 31 41]\n",
      "0\n",
      "1\n",
      "2\n",
      "3\n",
      "4\n"
     ]
    }
   ],
   "source": [
    "x_1d=np.arange(50)\n",
    "print(x_1d[-10:])\n",
    "x_2d = np.arange(50).reshape(5, 10)\n",
    "print(x_2d)\n",
    "print(x_2d[:,1])\n",
    "for i in x_2d.flat[:5]:\n",
    "    print (i)"
   ]
  },
  {
   "cell_type": "code",
   "execution_count": null,
   "metadata": {},
   "outputs": [],
   "source": []
  }
 ],
 "metadata": {
  "kernelspec": {
   "display_name": "Python 3",
   "language": "python",
   "name": "python3"
  },
  "language_info": {
   "codemirror_mode": {
    "name": "ipython",
    "version": 3
   },
   "file_extension": ".py",
   "mimetype": "text/x-python",
   "name": "python",
   "nbconvert_exporter": "python",
   "pygments_lexer": "ipython3",
   "version": "3.7.4"
  }
 },
 "nbformat": 4,
 "nbformat_minor": 2
}
