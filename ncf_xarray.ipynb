{
 "cells": [
  {
   "cell_type": "code",
   "execution_count": 30,
   "metadata": {
    "scrolled": true
   },
   "outputs": [
    {
     "name": "stderr",
     "output_type": "stream",
     "text": [
      "ncdump [-c|-h] [-v ...] [[-b|-f] [c|f]] [-l len] [-n name] [-p n[,n]] [-k] [-x] [-s] [-t|-i] [-g ...] [-w] [-Ln] file\n",
      "  [-c]             Coordinate variable data and header information\n",
      "  [-h]             Header information only, no data\n",
      "  [-v var1[,...]]  Data for variable(s) <var1>,... only\n",
      "  [-b [c|f]]       Brief annotations for C or Fortran indices in data\n",
      "  [-f [c|f]]       Full annotations for C or Fortran indices in data\n",
      "  [-l len]         Line length maximum in data section (default 80)\n",
      "  [-n name]        Name for netCDF (default derived from file name)\n",
      "  [-p n[,n]]       Display floating-point values with less precision\n",
      "  [-k]             Output kind of netCDF file\n",
      "  [-s]             Output special (virtual) attributes\n",
      "  [-t]             Output time data as date-time strings\n",
      "  [-i]             Output time data as date-time strings with ISO-8601 'T' separator\n",
      "  [-g grp1[,...]]  Data and metadata for group(s) <grp1>,... only\n",
      "  [-w]             With client-side caching of variables for DAP URLs\n",
      "  [-x]             Output XML (NcML) instead of CDL\n",
      "  [-Xp]            Unconditionally suppress output of the properties attribute\n",
      "  [-Ln]            Set log level to n (>= 0); ignore if logging not enabled.\n",
      "  file             Name of netCDF file (or URL if DAP access enabled)\n",
      "netcdf library version 4.6.1 of Dec 20 2018 17:54:58 $\n"
     ]
    }
   ],
   "source": [
    "import netCDF4 as ncf\n",
    "import numpy as np\n",
    "fN = '../data/HadEX2_GSL.nc'\n",
    "\n",
    "!ncdump -h {fN} #show header of file "
   ]
  },
  {
   "cell_type": "code",
   "execution_count": 19,
   "metadata": {},
   "outputs": [
    {
     "name": "stdout",
     "output_type": "stream",
     "text": [
      "<class 'netCDF4._netCDF4.Dataset'>\n",
      "root group (NETCDF4_CLASSIC data model, file format HDF5):\n",
      "    data: Growing season length\n",
      "    source: HadEX2 (http://www.climdex.org/)\n",
      "    reference: Donat et al., 2013\n",
      "    dimensions(sizes): lon(96), lat(73), time(50)\n",
      "    variables(dimensions): float64 \u001b[4mlon\u001b[0m(lon), float64 \u001b[4mlat\u001b[0m(lat), int32 \u001b[4mtime\u001b[0m(time), float32 \u001b[4mGSL\u001b[0m(time,lat,lon), float64 \u001b[4mtrend\u001b[0m(lat,lon), float64 \u001b[4mp_val\u001b[0m(lat,lon)\n",
      "    groups: \n",
      "\n"
     ]
    }
   ],
   "source": [
    "ncf=nc.Dataset(fN) #open the dataset\n",
    "print(ncf)"
   ]
  },
  {
   "cell_type": "code",
   "execution_count": 20,
   "metadata": {},
   "outputs": [
    {
     "name": "stdout",
     "output_type": "stream",
     "text": [
      "odict_keys(['lon', 'lat', 'time', 'GSL', 'trend', 'p_val'])\n"
     ]
    }
   ],
   "source": [
    "print(ncf.variables.keys()) #get all variables"
   ]
  },
  {
   "cell_type": "code",
   "execution_count": 21,
   "metadata": {},
   "outputs": [
    {
     "name": "stdout",
     "output_type": "stream",
     "text": [
      "<class 'netCDF4._netCDF4.Variable'>\n",
      "float64 lon(lon)\n",
      "    _FillValue: nan\n",
      "unlimited dimensions: \n",
      "current shape = (96,)\n",
      "filling on\n"
     ]
    }
   ],
   "source": [
    "print(ncf.variables['lon']) #still contains meta data like units - requires further index"
   ]
  },
  {
   "cell_type": "code",
   "execution_count": 22,
   "metadata": {},
   "outputs": [
    {
     "name": "stdout",
     "output_type": "stream",
     "text": [
      "[  0.     3.75   7.5   11.25  15.    18.75  22.5   26.25  30.    33.75\n",
      "  37.5   41.25  45.    48.75  52.5   56.25  60.    63.75  67.5   71.25\n",
      "  75.    78.75  82.5   86.25  90.    93.75  97.5  101.25 105.   108.75\n",
      " 112.5  116.25 120.   123.75 127.5  131.25 135.   138.75 142.5  146.25\n",
      " 150.   153.75 157.5  161.25 165.   168.75 172.5  176.25 180.   183.75\n",
      " 187.5  191.25 195.   198.75 202.5  206.25 210.   213.75 217.5  221.25\n",
      " 225.   228.75 232.5  236.25 240.   243.75 247.5  251.25 255.   258.75\n",
      " 262.5  266.25 270.   273.75 277.5  281.25 285.   288.75 292.5  296.25\n",
      " 300.   303.75 307.5  311.25 315.   318.75 322.5  326.25 330.   333.75\n",
      " 337.5  341.25 345.   348.75 352.5  356.25]\n"
     ]
    }
   ],
   "source": [
    "print(ncf.variables['lon'][:]) #now you get the data"
   ]
  },
  {
   "cell_type": "code",
   "execution_count": 23,
   "metadata": {},
   "outputs": [
    {
     "name": "stdout",
     "output_type": "stream",
     "text": [
      "days since 1956-01-01 00:00:00\n"
     ]
    }
   ],
   "source": [
    "print(ncf.variables['time'].units) # what we mean by units"
   ]
  },
  {
   "cell_type": "code",
   "execution_count": 24,
   "metadata": {},
   "outputs": [
    {
     "name": "stdout",
     "output_type": "stream",
     "text": [
      "[-90.  -87.5 -85.  -82.5 -80.  -77.5 -75.  -72.5 -70.  -67.5 -65.  -62.5\n",
      " -60.  -57.5 -55.  -52.5 -50.  -47.5 -45.  -42.5 -40.  -37.5 -35.  -32.5\n",
      " -30.  -27.5 -25.  -22.5 -20.  -17.5 -15.  -12.5 -10.   -7.5  -5.   -2.5\n",
      "   0.    2.5   5.    7.5  10.   12.5  15.   17.5  20.   22.5  25.   27.5\n",
      "  30.   32.5  35.   37.5  40.   42.5  45.   47.5  50.   52.5  55.   57.5\n",
      "  60.   62.5  65.   67.5  70.   72.5  75.   77.5  80.   82.5  85.   87.5\n",
      "  90. ]\n"
     ]
    }
   ],
   "source": [
    "lat=ncf.variables['lat'][:]\n",
    "print(lat)"
   ]
  },
  {
   "cell_type": "code",
   "execution_count": 27,
   "metadata": {},
   "outputs": [
    {
     "data": {
      "text/plain": [
       "array([[ True,  True,  True, ...,  True,  True,  True],\n",
       "       [ True,  True,  True, ...,  True,  True,  True],\n",
       "       [ True,  True,  True, ...,  True,  True,  True],\n",
       "       ...,\n",
       "       [ True,  True,  True, ...,  True,  True,  True],\n",
       "       [ True,  True,  True, ...,  True,  True,  True],\n",
       "       [ True,  True,  True, ...,  True,  True,  True]])"
      ]
     },
     "execution_count": 27,
     "metadata": {},
     "output_type": "execute_result"
    }
   ],
   "source": [
    "trend_masked = ncf.variables['trend'][:]\n",
    "trend_masked\n",
    "#trend is a masked array containing the data and the mask"
   ]
  },
  {
   "cell_type": "code",
   "execution_count": 34,
   "metadata": {},
   "outputs": [
    {
     "data": {
      "text/plain": [
       "masked_array(data=[--, 1.0, 2.0],\n",
       "             mask=[ True, False, False],\n",
       "       fill_value=nan)"
      ]
     },
     "execution_count": 34,
     "metadata": {},
     "output_type": "execute_result"
    }
   ],
   "source": [
    "#a little on masks\n",
    "ma=np.ma.array([0.,1.,2.],mask=[True,False,False],fill_value=np.NaN) \n",
    "ma \n",
    "#for the array [0,1,2], if true fill with fill value according to mask = [nan,1,2]\n",
    "#data has to be float"
   ]
  },
  {
   "cell_type": "code",
   "execution_count": 35,
   "metadata": {},
   "outputs": [
    {
     "data": {
      "text/plain": [
       "array([[nan, nan, nan, ..., nan, nan, nan],\n",
       "       [nan, nan, nan, ..., nan, nan, nan],\n",
       "       [nan, nan, nan, ..., nan, nan, nan],\n",
       "       ...,\n",
       "       [nan, nan, nan, ..., nan, nan, nan],\n",
       "       [nan, nan, nan, ..., nan, nan, nan],\n",
       "       [nan, nan, nan, ..., nan, nan, nan]])"
      ]
     },
     "execution_count": 35,
     "metadata": {},
     "output_type": "execute_result"
    }
   ],
   "source": [
    "#mask arrays can be converteed to nan arrays\n",
    "trend=np.asarray(trend_masked)\n",
    "trend"
   ]
  },
  {
   "cell_type": "code",
   "execution_count": 37,
   "metadata": {},
   "outputs": [],
   "source": [
    "import xarray as xr"
   ]
  },
  {
   "cell_type": "code",
   "execution_count": 38,
   "metadata": {},
   "outputs": [],
   "source": [
    "ds=xr.open_dataset(fN) #open dataset using xarray this time\n",
    "#datasets contain a bunch of data arrays\n",
    "#when reading a variable, we are reading the data array"
   ]
  },
  {
   "cell_type": "code",
   "execution_count": 39,
   "metadata": {},
   "outputs": [
    {
     "data": {
      "text/html": [
       "<pre>&lt;xarray.DataArray &#x27;lat&#x27; (lat: 73)&gt;\n",
       "array([-90. , -87.5, -85. , -82.5, -80. , -77.5, -75. , -72.5, -70. , -67.5,\n",
       "       -65. , -62.5, -60. , -57.5, -55. , -52.5, -50. , -47.5, -45. , -42.5,\n",
       "       -40. , -37.5, -35. , -32.5, -30. , -27.5, -25. , -22.5, -20. , -17.5,\n",
       "       -15. , -12.5, -10. ,  -7.5,  -5. ,  -2.5,   0. ,   2.5,   5. ,   7.5,\n",
       "        10. ,  12.5,  15. ,  17.5,  20. ,  22.5,  25. ,  27.5,  30. ,  32.5,\n",
       "        35. ,  37.5,  40. ,  42.5,  45. ,  47.5,  50. ,  52.5,  55. ,  57.5,\n",
       "        60. ,  62.5,  65. ,  67.5,  70. ,  72.5,  75. ,  77.5,  80. ,  82.5,\n",
       "        85. ,  87.5,  90. ])\n",
       "Coordinates:\n",
       "  * lat      (lat) float64 -90.0 -87.5 -85.0 -82.5 -80.0 ... 82.5 85.0 87.5 90.0</pre>"
      ],
      "text/plain": [
       "<xarray.DataArray 'lat' (lat: 73)>\n",
       "array([-90. , -87.5, -85. , -82.5, -80. , -77.5, -75. , -72.5, -70. , -67.5,\n",
       "       -65. , -62.5, -60. , -57.5, -55. , -52.5, -50. , -47.5, -45. , -42.5,\n",
       "       -40. , -37.5, -35. , -32.5, -30. , -27.5, -25. , -22.5, -20. , -17.5,\n",
       "       -15. , -12.5, -10. ,  -7.5,  -5. ,  -2.5,   0. ,   2.5,   5. ,   7.5,\n",
       "        10. ,  12.5,  15. ,  17.5,  20. ,  22.5,  25. ,  27.5,  30. ,  32.5,\n",
       "        35. ,  37.5,  40. ,  42.5,  45. ,  47.5,  50. ,  52.5,  55. ,  57.5,\n",
       "        60. ,  62.5,  65. ,  67.5,  70. ,  72.5,  75. ,  77.5,  80. ,  82.5,\n",
       "        85. ,  87.5,  90. ])\n",
       "Coordinates:\n",
       "  * lat      (lat) float64 -90.0 -87.5 -85.0 -82.5 -80.0 ... 82.5 85.0 87.5 90.0"
      ]
     },
     "execution_count": 39,
     "metadata": {},
     "output_type": "execute_result"
    }
   ],
   "source": [
    "lat=ds['lat'] #or ds.lat\n",
    "lat"
   ]
  },
  {
   "cell_type": "code",
   "execution_count": 41,
   "metadata": {},
   "outputs": [
    {
     "data": {
      "text/html": [
       "<pre>&lt;xarray.DataArray &#x27;lon&#x27; (lon: 96)&gt;\n",
       "array([  0.  ,   3.75,   7.5 ,  11.25,  15.  ,  18.75,  22.5 ,  26.25,  30.  ,\n",
       "        33.75,  37.5 ,  41.25,  45.  ,  48.75,  52.5 ,  56.25,  60.  ,  63.75,\n",
       "        67.5 ,  71.25,  75.  ,  78.75,  82.5 ,  86.25,  90.  ,  93.75,  97.5 ,\n",
       "       101.25, 105.  , 108.75, 112.5 , 116.25, 120.  , 123.75, 127.5 , 131.25,\n",
       "       135.  , 138.75, 142.5 , 146.25, 150.  , 153.75, 157.5 , 161.25, 165.  ,\n",
       "       168.75, 172.5 , 176.25, 180.  , 183.75, 187.5 , 191.25, 195.  , 198.75,\n",
       "       202.5 , 206.25, 210.  , 213.75, 217.5 , 221.25, 225.  , 228.75, 232.5 ,\n",
       "       236.25, 240.  , 243.75, 247.5 , 251.25, 255.  , 258.75, 262.5 , 266.25,\n",
       "       270.  , 273.75, 277.5 , 281.25, 285.  , 288.75, 292.5 , 296.25, 300.  ,\n",
       "       303.75, 307.5 , 311.25, 315.  , 318.75, 322.5 , 326.25, 330.  , 333.75,\n",
       "       337.5 , 341.25, 345.  , 348.75, 352.5 , 356.25])\n",
       "Coordinates:\n",
       "  * lon      (lon) float64 0.0 3.75 7.5 11.25 15.0 ... 345.0 348.8 352.5 356.2</pre>"
      ],
      "text/plain": [
       "<xarray.DataArray 'lon' (lon: 96)>\n",
       "array([  0.  ,   3.75,   7.5 ,  11.25,  15.  ,  18.75,  22.5 ,  26.25,  30.  ,\n",
       "        33.75,  37.5 ,  41.25,  45.  ,  48.75,  52.5 ,  56.25,  60.  ,  63.75,\n",
       "        67.5 ,  71.25,  75.  ,  78.75,  82.5 ,  86.25,  90.  ,  93.75,  97.5 ,\n",
       "       101.25, 105.  , 108.75, 112.5 , 116.25, 120.  , 123.75, 127.5 , 131.25,\n",
       "       135.  , 138.75, 142.5 , 146.25, 150.  , 153.75, 157.5 , 161.25, 165.  ,\n",
       "       168.75, 172.5 , 176.25, 180.  , 183.75, 187.5 , 191.25, 195.  , 198.75,\n",
       "       202.5 , 206.25, 210.  , 213.75, 217.5 , 221.25, 225.  , 228.75, 232.5 ,\n",
       "       236.25, 240.  , 243.75, 247.5 , 251.25, 255.  , 258.75, 262.5 , 266.25,\n",
       "       270.  , 273.75, 277.5 , 281.25, 285.  , 288.75, 292.5 , 296.25, 300.  ,\n",
       "       303.75, 307.5 , 311.25, 315.  , 318.75, 322.5 , 326.25, 330.  , 333.75,\n",
       "       337.5 , 341.25, 345.  , 348.75, 352.5 , 356.25])\n",
       "Coordinates:\n",
       "  * lon      (lon) float64 0.0 3.75 7.5 11.25 15.0 ... 345.0 348.8 352.5 356.2"
      ]
     },
     "execution_count": 41,
     "metadata": {},
     "output_type": "execute_result"
    }
   ],
   "source": [
    "lon=ds.lon\n",
    "lon\n",
    "#but not entirely a numpy array now - still some meta i guess"
   ]
  },
  {
   "cell_type": "code",
   "execution_count": 48,
   "metadata": {},
   "outputs": [
    {
     "data": {
      "text/plain": [
       "array([  0.  ,   3.75,   7.5 ,  11.25,  15.  ,  18.75,  22.5 ,  26.25,\n",
       "        30.  ,  33.75,  37.5 ,  41.25,  45.  ,  48.75,  52.5 ,  56.25,\n",
       "        60.  ,  63.75,  67.5 ,  71.25,  75.  ,  78.75,  82.5 ,  86.25,\n",
       "        90.  ,  93.75,  97.5 , 101.25, 105.  , 108.75, 112.5 , 116.25,\n",
       "       120.  , 123.75, 127.5 , 131.25, 135.  , 138.75, 142.5 , 146.25,\n",
       "       150.  , 153.75, 157.5 , 161.25, 165.  , 168.75, 172.5 , 176.25,\n",
       "       180.  , 183.75, 187.5 , 191.25, 195.  , 198.75, 202.5 , 206.25,\n",
       "       210.  , 213.75, 217.5 , 221.25, 225.  , 228.75, 232.5 , 236.25,\n",
       "       240.  , 243.75, 247.5 , 251.25, 255.  , 258.75, 262.5 , 266.25,\n",
       "       270.  , 273.75, 277.5 , 281.25, 285.  , 288.75, 292.5 , 296.25,\n",
       "       300.  , 303.75, 307.5 , 311.25, 315.  , 318.75, 322.5 , 326.25,\n",
       "       330.  , 333.75, 337.5 , 341.25, 345.  , 348.75, 352.5 , 356.25])"
      ]
     },
     "execution_count": 48,
     "metadata": {},
     "output_type": "execute_result"
    }
   ],
   "source": [
    "#convert to numpy\n",
    "lat_dat=lat.values[:]\n",
    "lon_dat=np.asarray(lon)[:]\n",
    "#two ways"
   ]
  },
  {
   "cell_type": "code",
   "execution_count": 50,
   "metadata": {},
   "outputs": [
    {
     "data": {
      "text/html": [
       "<pre>&lt;xarray.DataArray &#x27;trend&#x27; (lat: 73, lon: 96)&gt;\n",
       "array([[nan, nan, nan, ..., nan, nan, nan],\n",
       "       [nan, nan, nan, ..., nan, nan, nan],\n",
       "       [nan, nan, nan, ..., nan, nan, nan],\n",
       "       ...,\n",
       "       [nan, nan, nan, ..., nan, nan, nan],\n",
       "       [nan, nan, nan, ..., nan, nan, nan],\n",
       "       [nan, nan, nan, ..., nan, nan, nan]])\n",
       "Coordinates:\n",
       "  * lon      (lon) float64 0.0 3.75 7.5 11.25 15.0 ... 345.0 348.8 352.5 356.2\n",
       "  * lat      (lat) float64 -90.0 -87.5 -85.0 -82.5 -80.0 ... 82.5 85.0 87.5 90.0</pre>"
      ],
      "text/plain": [
       "<xarray.DataArray 'trend' (lat: 73, lon: 96)>\n",
       "array([[nan, nan, nan, ..., nan, nan, nan],\n",
       "       [nan, nan, nan, ..., nan, nan, nan],\n",
       "       [nan, nan, nan, ..., nan, nan, nan],\n",
       "       ...,\n",
       "       [nan, nan, nan, ..., nan, nan, nan],\n",
       "       [nan, nan, nan, ..., nan, nan, nan],\n",
       "       [nan, nan, nan, ..., nan, nan, nan]])\n",
       "Coordinates:\n",
       "  * lon      (lon) float64 0.0 3.75 7.5 11.25 15.0 ... 345.0 348.8 352.5 356.2\n",
       "  * lat      (lat) float64 -90.0 -87.5 -85.0 -82.5 -80.0 ... 82.5 85.0 87.5 90.0"
      ]
     },
     "execution_count": 50,
     "metadata": {},
     "output_type": "execute_result"
    }
   ],
   "source": [
    "trend=ds.trend\n",
    "trend \n",
    "#not presented as masked array like netcdf"
   ]
  },
  {
   "cell_type": "code",
   "execution_count": 69,
   "metadata": {},
   "outputs": [
    {
     "name": "stdout",
     "output_type": "stream",
     "text": [
      "Shape of the data:\n",
      " * all: (50, 73, 96)\n",
      " * CNA: (50, 9, 6)\n"
     ]
    }
   ],
   "source": [
    "#select a subset of data according to coordinates by xarray\n",
    "GSL=ds.GSL\n",
    "#say yu want data from lat:30,50 lon: -150-85\n",
    "lat = slice(30, 50)\n",
    "lon = slice(360 - 105, 360 - 85)\n",
    "\n",
    "GSL_CNA = GSL.sel(lat=lat, lon=lon)\n",
    "\n",
    "print('Shape of the data:')\n",
    "print(' * all:', GSL.shape)\n",
    "print(' * CNA:', GSL_CNA.shape)\n"
   ]
  },
  {
   "cell_type": "code",
   "execution_count": 54,
   "metadata": {},
   "outputs": [],
   "source": [
    "# Note on slice: the following two commands are equivalent:\n",
    "\n",
    "# GSL.values[:10]\n",
    "# GSL.values[slice(0, 10)]\n",
    "# However the : operator only works in square brackets ([]). So for functions like GSL.sel(...) we need to use slice"
   ]
  },
  {
   "cell_type": "code",
   "execution_count": 55,
   "metadata": {},
   "outputs": [
    {
     "data": {
      "text/html": [
       "<pre>&lt;xarray.DataArray &#x27;lon&#x27; (lon: 6)&gt;\n",
       "array([255.  , 258.75, 262.5 , 266.25, 270.  , 273.75])\n",
       "Coordinates:\n",
       "  * lon      (lon) float64 255.0 258.8 262.5 266.2 270.0 273.8</pre>"
      ],
      "text/plain": [
       "<xarray.DataArray 'lon' (lon: 6)>\n",
       "array([255.  , 258.75, 262.5 , 266.25, 270.  , 273.75])\n",
       "Coordinates:\n",
       "  * lon      (lon) float64 255.0 258.8 262.5 266.2 270.0 273.8"
      ]
     },
     "execution_count": 55,
     "metadata": {},
     "output_type": "execute_result"
    }
   ],
   "source": [
    "GSL_CNA.lon"
   ]
  },
  {
   "cell_type": "code",
   "execution_count": 57,
   "metadata": {},
   "outputs": [
    {
     "data": {
      "text/plain": [
       "(50,)"
      ]
     },
     "execution_count": 57,
     "metadata": {},
     "output_type": "execute_result"
    }
   ],
   "source": [
    "#if you want to do it for a location and not a range say  47 E 8N\n",
    "lat=47\n",
    "lon=8\n",
    "\n",
    "GSL_SW=GSL.sel(lat=lat,lon=lon, method='nearest')\n",
    "\n",
    "GSL_SW.shape\n",
    "#data is one dimensional now (in time)"
   ]
  },
  {
   "cell_type": "code",
   "execution_count": 67,
   "metadata": {},
   "outputs": [
    {
     "data": {
      "text/plain": [
       "array([266.95663, 260.41937], dtype=float32)"
      ]
     },
     "execution_count": 67,
     "metadata": {},
     "output_type": "execute_result"
    }
   ],
   "source": [
    "GSL_SW_60=GSL_SW.sel(time=slice('1960','1961'))\n",
    "\n",
    "#or for 1 value\n",
    "GSL_CNA_60=GSL_CNA.sel(time='1960')\n",
    "\n",
    "GSL_SW_60.shape\n",
    "\n",
    "GSL_SW60_array=GSL_SW_60.values[:]\n",
    "\n",
    "GSL_SW60_array\n"
   ]
  },
  {
   "cell_type": "code",
   "execution_count": 70,
   "metadata": {},
   "outputs": [
    {
     "data": {
      "text/html": [
       "<pre>&lt;xarray.DataArray &#x27;GSL&#x27; (lat: 73, lon: 96)&gt;\n",
       "array([[nan, nan, nan, ..., nan, nan, nan],\n",
       "       [nan, nan, nan, ..., nan, nan, nan],\n",
       "       [nan, nan, nan, ..., nan, nan, nan],\n",
       "       ...,\n",
       "       [nan, nan, nan, ..., nan, nan, nan],\n",
       "       [nan, nan, nan, ..., nan, nan, nan],\n",
       "       [nan, nan, nan, ..., nan, nan, nan]], dtype=float32)\n",
       "Coordinates:\n",
       "  * lon      (lon) float64 0.0 3.75 7.5 11.25 15.0 ... 345.0 348.8 352.5 356.2\n",
       "  * lat      (lat) float64 -90.0 -87.5 -85.0 -82.5 -80.0 ... 82.5 85.0 87.5 90.0</pre>"
      ],
      "text/plain": [
       "<xarray.DataArray 'GSL' (lat: 73, lon: 96)>\n",
       "array([[nan, nan, nan, ..., nan, nan, nan],\n",
       "       [nan, nan, nan, ..., nan, nan, nan],\n",
       "       [nan, nan, nan, ..., nan, nan, nan],\n",
       "       ...,\n",
       "       [nan, nan, nan, ..., nan, nan, nan],\n",
       "       [nan, nan, nan, ..., nan, nan, nan],\n",
       "       [nan, nan, nan, ..., nan, nan, nan]], dtype=float32)\n",
       "Coordinates:\n",
       "  * lon      (lon) float64 0.0 3.75 7.5 11.25 15.0 ... 345.0 348.8 352.5 356.2\n",
       "  * lat      (lat) float64 -90.0 -87.5 -85.0 -82.5 -80.0 ... 82.5 85.0 87.5 90.0"
      ]
     },
     "execution_count": 70,
     "metadata": {},
     "output_type": "execute_result"
    }
   ],
   "source": [
    "GSL.mean('time')\n"
   ]
  },
  {
   "cell_type": "code",
   "execution_count": 74,
   "metadata": {},
   "outputs": [
    {
     "data": {
      "text/html": [
       "<pre>&lt;xarray.DataArray &#x27;GSL&#x27; (time: 50)&gt;\n",
       "array([263.1372 , 260.5882 , 266.3644 , 247.30276, 263.59653, 254.37766,\n",
       "       265.84784, 266.60938, 261.76404, 263.3224 , 260.81277, 259.2541 ,\n",
       "       266.03784, 252.17351, 255.83366, 259.07184, 254.93245, 262.94714,\n",
       "       267.47083, 256.11783, 253.93668, 266.5638 , 249.51796, 239.0446 ,\n",
       "       251.0114 , 271.1867 , 260.69168, 261.5591 , 260.14377, 254.08524,\n",
       "       269.4333 , 265.77594, 261.84576, 259.86154, 264.63736, 254.87657,\n",
       "       263.09467, 253.68837, 267.56207, 265.9866 , 254.00482, 253.2385 ,\n",
       "       271.10004, 273.8884 , 261.81857, 265.27493, 248.62473, 259.81198,\n",
       "       267.09018, 266.4215 ], dtype=float32)\n",
       "Coordinates:\n",
       "  * time     (time) datetime64[ns] 1956-01-01 1957-01-01 ... 2005-01-01</pre>"
      ],
      "text/plain": [
       "<xarray.DataArray 'GSL' (time: 50)>\n",
       "array([263.1372 , 260.5882 , 266.3644 , 247.30276, 263.59653, 254.37766,\n",
       "       265.84784, 266.60938, 261.76404, 263.3224 , 260.81277, 259.2541 ,\n",
       "       266.03784, 252.17351, 255.83366, 259.07184, 254.93245, 262.94714,\n",
       "       267.47083, 256.11783, 253.93668, 266.5638 , 249.51796, 239.0446 ,\n",
       "       251.0114 , 271.1867 , 260.69168, 261.5591 , 260.14377, 254.08524,\n",
       "       269.4333 , 265.77594, 261.84576, 259.86154, 264.63736, 254.87657,\n",
       "       263.09467, 253.68837, 267.56207, 265.9866 , 254.00482, 253.2385 ,\n",
       "       271.10004, 273.8884 , 261.81857, 265.27493, 248.62473, 259.81198,\n",
       "       267.09018, 266.4215 ], dtype=float32)\n",
       "Coordinates:\n",
       "  * time     (time) datetime64[ns] 1956-01-01 1957-01-01 ... 2005-01-01"
      ]
     },
     "execution_count": 74,
     "metadata": {},
     "output_type": "execute_result"
    }
   ],
   "source": [
    "GSL_CNA.mean(('lat', 'lon')) #mean over more than one dimension possible"
   ]
  },
  {
   "cell_type": "code",
   "execution_count": null,
   "metadata": {},
   "outputs": [],
   "source": []
  }
 ],
 "metadata": {
  "kernelspec": {
   "display_name": "Python 3",
   "language": "python",
   "name": "python3"
  },
  "language_info": {
   "codemirror_mode": {
    "name": "ipython",
    "version": 3
   },
   "file_extension": ".py",
   "mimetype": "text/x-python",
   "name": "python",
   "nbconvert_exporter": "python",
   "pygments_lexer": "ipython3",
   "version": "3.7.4"
  }
 },
 "nbformat": 4,
 "nbformat_minor": 2
}
